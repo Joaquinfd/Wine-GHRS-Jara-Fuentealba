{
 "cells": [
  {
   "cell_type": "code",
   "execution_count": 1,
   "metadata": {},
   "outputs": [],
   "source": [
    "import numpy as np\n",
    "import pandas as pd\n",
    "import scipy\n",
    "import networkx as nx\n",
    "import itertools\n",
    "import collections\n",
    "from sklearn.preprocessing import LabelEncoder, OneHotEncoder\n",
    "import pickle"
   ]
  },
  {
   "cell_type": "code",
   "execution_count": 2,
   "metadata": {},
   "outputs": [],
   "source": [
    "# Función para convertir variables categóricas a one-hot encoding\n",
    "def convert_categorical(df_X, _X):\n",
    "    values = np.array(df_X[_X])\n",
    "    label_encoder = LabelEncoder()\n",
    "    integer_encoded = label_encoder.fit_transform(values)\n",
    "    onehot_encoder = OneHotEncoder(sparse_output=False)\n",
    "    integer_encoded = integer_encoded.reshape(len(integer_encoded), 1)\n",
    "    onehot_encoded = onehot_encoder.fit_transform(integer_encoded)\n",
    "    df_X = df_X.drop(_X, 1)\n",
    "    for j in range(integer_encoded.max() + 1):\n",
    "        df_X.insert(loc=j + 1, column=str(_X) + str(j + 1), value=onehot_encoded[:, j])\n",
    "    return df_X"
   ]
  },
  {
   "cell_type": "code",
   "execution_count": 3,
   "metadata": {},
   "outputs": [],
   "source": [
    "alpha_coefs = [0.002] #, 0.005, 0.01, 0.015]#, 0.02, 0.025, 0.03, 0.035, 0.04]"
   ]
  },
  {
   "cell_type": "code",
   "execution_count": 4,
   "metadata": {},
   "outputs": [
    {
     "name": "stderr",
     "output_type": "stream",
     "text": [
      "/tmp/ipykernel_338082/875457881.py:2: DtypeWarning: Columns (3) have mixed types. Specify dtype option on import or set low_memory=False.\n",
      "  df = pd.read_csv('Datos/XWines_Slim_150K_ratings.csv')\n",
      "/tmp/ipykernel_338082/644169219.py:9: FutureWarning: In a future version of pandas all arguments of DataFrame.drop except for the argument 'labels' will be keyword-only.\n",
      "  df_X = df_X.drop(_X, 1)\n",
      "/tmp/ipykernel_338082/644169219.py:9: FutureWarning: In a future version of pandas all arguments of DataFrame.drop except for the argument 'labels' will be keyword-only.\n",
      "  df_X = df_X.drop(_X, 1)\n",
      "/tmp/ipykernel_338082/644169219.py:9: FutureWarning: In a future version of pandas all arguments of DataFrame.drop except for the argument 'labels' will be keyword-only.\n",
      "  df_X = df_X.drop(_X, 1)\n"
     ]
    }
   ],
   "source": [
    "# Carga de datos\n",
    "df = pd.read_csv('Datos/XWines_Slim_150K_ratings.csv')\n",
    "df_user = pd.read_csv('Datos/XWines_Slim_10K_users.csv')\n",
    "\n",
    "# Conversión de variables categóricas\n",
    "df_user = convert_categorical(df_user, 'Country')\n",
    "df_user = convert_categorical(df_user, 'Gender')\n",
    "df_user['bin'] = pd.cut(df_user['Age'], [0, 10, 20, 30, 40, 50, 100], labels=['1', '2', '3', '4', '5', '6'])\n",
    "df_user['Age'] = df_user['bin']\n",
    "df_user = df_user.drop('bin', axis=1)\n",
    "df_user = convert_categorical(df_user, 'Age')"
   ]
  },
  {
   "cell_type": "code",
   "execution_count": 5,
   "metadata": {},
   "outputs": [
    {
     "name": "stderr",
     "output_type": "stream",
     "text": [
      "/tmp/ipykernel_338082/3115068922.py:64: SettingWithCopyWarning: \n",
      "A value is trying to be set on a copy of a slice from a DataFrame\n",
      "\n",
      "See the caveats in the documentation: https://pandas.pydata.org/pandas-docs/stable/user_guide/indexing.html#returning-a-view-versus-a-copy\n",
      "  X_train.fillna(0, inplace=True)\n"
     ]
    }
   ],
   "source": [
    "for alpha_coef in alpha_coefs:\n",
    "    pairs = []\n",
    "    grouped = df.groupby(['WineID', 'Rating'])\n",
    "    for key, group in grouped:\n",
    "        pairs.extend(list(itertools.combinations(group['UserID'], 2)))\n",
    "    \n",
    "    counter = collections.Counter(pairs)\n",
    "    alpha = alpha_coef * len(df['WineID'].unique())  # Ajuste del parámetro alpha\n",
    "    edge_list = map(list, collections.Counter(el for el in counter.elements() if counter[el] >= alpha).keys())\n",
    "\n",
    "    \n",
    "    # Construcción del grafo\n",
    "    G = nx.Graph()\n",
    "\n",
    "    for el in edge_list:\n",
    "        G.add_edge(el[0], el[1], weight=1)\n",
    "        G.add_edge(el[0], el[0], weight=1)\n",
    "        G.add_edge(el[1], el[1], weight=1)\n",
    "\n",
    "    \n",
    "    # Asegurarse de que el grafo no está vacío\n",
    "    if len(G.nodes()) == 0:\n",
    "        print(f\"Grafo vacío para alpha_coef={alpha_coef}\")\n",
    "        continue\n",
    "    # Grafo vacio para alpha_coef=0.015\n",
    "\n",
    "    # Guardar el grafo en un archivo\n",
    "    with open(f\"data_wines/graph_alpha_{alpha_coef}.pkl\", \"wb\") as f:\n",
    "        pickle.dump(G, f)\n",
    "    \n",
    "    # Cálculo de centralidades y normalización\n",
    "    pr = nx.pagerank(G.to_directed())\n",
    "    if pr:\n",
    "        df_user['PR'] = df_user['UserID'].map(pr).fillna(0)\n",
    "        df_user['PR'] /= float(df_user['PR'].max())\n",
    "    \n",
    "    dc = nx.degree_centrality(G)\n",
    "    if dc:\n",
    "        df_user['CD'] = df_user['UserID'].map(dc).fillna(0)\n",
    "        df_user['CD'] /= float(df_user['CD'].max())\n",
    "    \n",
    "    cc = nx.closeness_centrality(G)\n",
    "    if cc:\n",
    "        df_user['CC'] = df_user['UserID'].map(cc).fillna(0)\n",
    "        df_user['CC'] /= float(df_user['CC'].max())\n",
    "    \n",
    "    bc = nx.betweenness_centrality(G)\n",
    "    if bc:\n",
    "        df_user['CB'] = df_user['UserID'].map(bc).fillna(0)\n",
    "        df_user['CB'] /= float(df_user['CB'].max())\n",
    "    \n",
    "    lc = nx.load_centrality(G)\n",
    "    if lc:\n",
    "        df_user['LC'] = df_user['UserID'].map(lc).fillna(0)\n",
    "        df_user['LC'] /= float(df_user['LC'].max())\n",
    "    \n",
    "    nd = nx.average_neighbor_degree(G, weight='weight')\n",
    "    if nd:\n",
    "        df_user['AND'] = df_user['UserID'].map(nd).fillna(0)\n",
    "        df_user['AND'] /= float(df_user['AND'].max())\n",
    "    \n",
    "    # Preparación de los datos finales y guardado\n",
    "    X_train = df_user[df_user.columns[1:]]\n",
    "    X_train.fillna(0, inplace=True)\n",
    "\n",
    "    X_train.to_pickle(f\"data_wines/x_train_alpha({alpha_coef}).pkl\")"
   ]
  }
 ],
 "metadata": {
  "kernelspec": {
   "display_name": "Python 3",
   "language": "python",
   "name": "python3"
  },
  "language_info": {
   "codemirror_mode": {
    "name": "ipython",
    "version": 3
   },
   "file_extension": ".py",
   "mimetype": "text/x-python",
   "name": "python",
   "nbconvert_exporter": "python",
   "pygments_lexer": "ipython3",
   "version": "3.10.12"
  }
 },
 "nbformat": 4,
 "nbformat_minor": 2
}
